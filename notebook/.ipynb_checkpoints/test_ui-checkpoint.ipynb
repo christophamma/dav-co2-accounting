{
 "cells": [
  {
   "cell_type": "code",
   "execution_count": 3,
   "metadata": {
    "ExecuteTime": {
     "end_time": "2023-06-13T20:25:26.965481679Z",
     "start_time": "2023-06-13T20:25:26.914033392Z"
    },
    "collapsed": true
   },
   "outputs": [
    {
     "name": "stdout",
     "output_type": "stream",
     "text": [
      "[Category(name='Papier - Frischfaser', detail_unit='kg', description='Kauf von Frischfaser-Papier für z. B. Drucker'), Category(name='Papier - Recycling', detail_unit='kg', description='Kauf von Recycling-Papier für z. B. Drucker'), Category(name='Drucksachen - Frischfaser', detail_unit='kg', description='Kauf von bedruckten Frischfaser-Papier Produkten (Drucksachen durch Druckereien)'), Category(name='Drucksachen - Kunststoff', detail_unit='kg', description='Kauf von bedruckten Kunststoff Produkten'), Category(name='Drucksachen - Textil', detail_unit='kg', description='Kauf von bedruckten Textilien Produkten'), Category(name='Büromaterial (kg)', detail_unit='kg', description='Sonstige Ausgaben zum Bürobedarf und Batterien (z.B. kleinere Produkte, wie Scheren, Locher, Hefter oder Spitzer und Toner genauso wie Ordner, Mappen für die Ablage und Versandmaterial. Auch Schreibartikel wie Stifte und Schreibunterlagen zählen dazu.)'), Category(name='Büromöbel (kg)', detail_unit='kg', description='Ausgaben für Büromöbel z.B. Schreibtisch, Schreibtischstuhl')]\n"
     ]
    }
   ],
   "source": [
    "from co2data.categories.concrete_category_provider import ConcreteCategoryProvider\n",
    "from co2data.categories.importer import import_csv\n",
    "\n",
    "csv_file = \"../data/categories/test_categories.csv\"\n",
    "with open(csv_file, \"r\") as fh:\n",
    "    category_list = import_csv(fh)\n",
    "category_provider = ConcreteCategoryProvider(category_list)\n",
    "print(category_provider.get_all())"
   ]
  },
  {
   "cell_type": "code",
   "execution_count": 17,
   "metadata": {
    "ExecuteTime": {
     "end_time": "2023-06-14T13:55:01.071720928Z",
     "start_time": "2023-06-14T13:55:01.021258294Z"
    }
   },
   "outputs": [
    {
     "name": "stdout",
     "output_type": "stream",
     "text": [
      "adding ../pdf/20220315090249235.pdf with id 1000\n",
      "adding ../pdf/20220315085609099.pdf with id 1001\n",
      "adding ../pdf/20220315085444424.pdf with id 1002\n",
      "adding ../pdf/20220315090341840.pdf with id 1003\n",
      "adding ../pdf/20220315085719831.pdf with id 1004\n",
      "adding ../pdf/20220315085626441.pdf with id 1005\n",
      "adding ../pdf/20220315085640003.pdf with id 1006\n"
     ]
    }
   ],
   "source": [
    "from co2data.pdf.directory_importer import import_bills_in_directory\n",
    "from pathlib import Path\n",
    "from co2data.bills.concrete_bill_store import ConcreteBillStore\n",
    "from co2data.pdf.file_system_pdf_store import FileSystemPdfStore\n",
    "\n",
    "bills_directory = Path(\"../pdf/\")\n",
    "pdf_store = FileSystemPdfStore()\n",
    "bill_store = ConcreteBillStore(pdf_store)\n",
    "import_bills_in_directory(bill_store, bills_directory)\n"
   ]
  },
  {
   "cell_type": "code",
   "execution_count": 22,
   "metadata": {
    "ExecuteTime": {
     "end_time": "2023-06-14T14:12:07.677838197Z",
     "start_time": "2023-06-14T14:12:07.648982732Z"
    }
   },
   "outputs": [],
   "source": [
    "bills_todo = list(bill_store.bills.keys())\n",
    "bills_inprogress = []\n",
    "bills_done = []"
   ]
  },
  {
   "cell_type": "code",
   "execution_count": 47,
   "metadata": {
    "ExecuteTime": {
     "end_time": "2023-06-14T14:41:33.764489078Z",
     "start_time": "2023-06-14T14:41:33.643166325Z"
    }
   },
   "outputs": [
    {
     "data": {
      "application/vnd.jupyter.widget-view+json": {
       "model_id": "f86345b6c2a14a0399c8b56816708e01",
       "version_major": 2,
       "version_minor": 0
      },
      "text/plain": [
       "HBox(children=(VBox(children=(Select(description='ToDo:', options=(1000, 1001, 1002, 1003, 1004, 1005, 1006), …"
      ]
     },
     "metadata": {},
     "output_type": "display_data"
    }
   ],
   "source": [
    "import ipywidgets as widgets\n",
    "from wand.image import Image as WImage\n",
    "\n",
    "select_rows = 20\n",
    "select_todo = widgets.Select(\n",
    "    options=bills_todo,\n",
    "    rows=select_rows,\n",
    "    description='ToDo:',\n",
    "    disabled=False\n",
    ")\n",
    "select_inprogress = widgets.Select(\n",
    "    options=bills_inprogress,\n",
    "    rows=select_rows,\n",
    "    description='In Progress:',\n",
    "    disabled=False\n",
    ")\n",
    "select_done = widgets.Select(\n",
    "    options=bills_done,\n",
    "    rows=select_rows,\n",
    "    description='Done:',\n",
    "    disabled=False\n",
    ")\n",
    "\n",
    "image = widgets.Image(width=700, height=1000)\n",
    "\n",
    "current_bill = None\n",
    "\n",
    "class CurrentBill:\n",
    "    current_bill = None\n",
    "\n",
    "    def set_current_bill(self, event):\n",
    "        self.current_bill = event.new\n",
    "        show_pdf(self.current_bill)\n",
    "\n",
    "current_bill = CurrentBill()\n",
    "\n",
    "def show_pdf(bill_id):\n",
    "    filestream = pdf_store.get(bill_store.get(bill_id).file_identifier)\n",
    "    img = WImage(file=filestream, format=\"pdf\")\n",
    "    image.value = img.make_blob(format=\"png\")\n",
    "    image.format = \"png\"\n",
    "    return img\n",
    "\n",
    "\n",
    "left_box = widgets.VBox([select_todo, select_inprogress, select_done])\n",
    "middle_box = widgets.VBox([image])\n",
    "right_box = widgets.VBox()\n",
    "main_box = widgets.HBox([left_box, middle_box, right_box])\n",
    "# img = show_pdf(1001)\n",
    "select_todo.observe(current_bill.set_current_bill, names=\"value\")\n",
    "display(main_box)"
   ]
  },
  {
   "cell_type": "code",
   "execution_count": null,
   "metadata": {},
   "outputs": [],
   "source": []
  }
 ],
 "metadata": {
  "kernelspec": {
   "display_name": "Python 3 (ipykernel)",
   "language": "python",
   "name": "python3"
  },
  "language_info": {
   "codemirror_mode": {
    "name": "ipython",
    "version": 3
   },
   "file_extension": ".py",
   "mimetype": "text/x-python",
   "name": "python",
   "nbconvert_exporter": "python",
   "pygments_lexer": "ipython3",
   "version": "3.10.8"
  }
 },
 "nbformat": 4,
 "nbformat_minor": 1
}
