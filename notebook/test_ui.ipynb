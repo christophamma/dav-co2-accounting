{
 "cells": [
  {
   "cell_type": "code",
   "execution_count": 1,
   "metadata": {
    "ExecuteTime": {
     "end_time": "2023-09-04T21:18:42.341384733Z",
     "start_time": "2023-09-04T21:18:42.329547051Z"
    }
   },
   "outputs": [],
   "source": [
    "import sys\n",
    "sys.path.insert(0, \"..\")\n",
    "from co2data.categories.importer import create_category_provider_from_directory\n",
    "from pathlib import Path\n",
    "\n",
    "category_provider = create_category_provider_from_directory(Path(\"../data/categories\"))\n",
    "# print(category_provider.get_all())"
   ]
  },
  {
   "cell_type": "code",
   "execution_count": 2,
   "metadata": {
    "ExecuteTime": {
     "end_time": "2023-09-04T21:18:42.366783889Z",
     "start_time": "2023-09-04T21:18:42.345853946Z"
    }
   },
   "outputs": [],
   "source": [
    "from co2data.pdf.directory_importer import import_bills_in_directory\n",
    "from pathlib import Path\n",
    "from co2data.bills.concrete_bill_store import ConcreteBillStore\n",
    "from co2data.pdf.file_system_pdf_store import FileSystemPdfStore\n",
    "\n",
    "bills_directory = Path(\"../pdf/\")\n",
    "pdf_store = FileSystemPdfStore()\n",
    "bill_store = ConcreteBillStore(pdf_store)\n",
    "import_bills_in_directory(bill_store, bills_directory)\n"
   ]
  },
  {
   "cell_type": "code",
   "execution_count": 3,
   "metadata": {
    "ExecuteTime": {
     "end_time": "2023-09-04T21:18:42.381925768Z",
     "start_time": "2023-09-04T21:18:42.369621677Z"
    }
   },
   "outputs": [],
   "source": [
    "from co2data.workflow.status_tracker import Status, StatusTracker\n",
    "\n",
    "bill_status = {billid: Status.TO_DO for billid in bill_store.all()}\n",
    "status_tracker = StatusTracker(bill_status)"
   ]
  },
  {
   "cell_type": "code",
   "execution_count": 4,
   "metadata": {
    "scrolled": true,
    "ExecuteTime": {
     "end_time": "2023-09-04T21:18:44.729936108Z",
     "start_time": "2023-09-04T21:18:42.376530633Z"
    }
   },
   "outputs": [
    {
     "data": {
      "text/plain": "HBox(children=(VBox(children=(Select(description='ToDo:', options=(1000,), rows=20, value=1000), Select(descri…",
      "application/vnd.jupyter.widget-view+json": {
       "version_major": 2,
       "version_minor": 0,
       "model_id": "df1f8c28e0794ad7b9c243f295c84581"
      }
     },
     "metadata": {},
     "output_type": "display_data"
    }
   ],
   "source": [
    "from co2data.bills.bill import Position\n",
    "from co2data.bills.bill_id import BillId\n",
    "from ipywidgets import Layout\n",
    "import ipywidgets as widgets\n",
    "from wand.image import Image as WImage, Image\n",
    "\n",
    "select_rows = 20\n",
    "select_todo = widgets.Select(\n",
    "    options=status_tracker.get_by_status(Status.TO_DO),\n",
    "    rows=select_rows,\n",
    "    description='ToDo:',\n",
    "    disabled=False\n",
    ")\n",
    "select_inprogress = widgets.Select(\n",
    "    options=status_tracker.get_by_status(Status.IN_PROGRESS),\n",
    "    rows=select_rows,\n",
    "    description='In Progress:',\n",
    "    disabled=False\n",
    ")\n",
    "select_done = widgets.Select(\n",
    "    options=status_tracker.get_by_status(Status.DONE),\n",
    "    rows=select_rows,\n",
    "    description='Done:',\n",
    "    disabled=False\n",
    ")\n",
    "\n",
    "select_category = widgets.Dropdown(\n",
    "    options=[category.name for category in category_provider.get_all()],\n",
    "    description=\"Kategorie\"\n",
    ")\n",
    "\n",
    "select_position = widgets.Select(\n",
    "    description=\"Positionen\"\n",
    ")\n",
    "\n",
    "textinput_position_value = widgets.Text(\n",
    "    placeholder='Gebe den Wert ein',\n",
    "    description='Wert:',\n",
    "    disabled=False\n",
    ")\n",
    "\n",
    "unit_label = widgets.Label(\n",
    "    value=\"test\"\n",
    ")\n",
    "\n",
    "button_add_position = widgets.Button(\n",
    "    description=\"Add\"\n",
    ")\n",
    "\n",
    "button_delete_position = widgets.Button(\n",
    "    description=\"Delete\"\n",
    ")\n",
    "\n",
    "button_done = widgets.Button(\n",
    "    description=\"Done\"\n",
    ")\n",
    "\n",
    "log_output = widgets.Output()\n",
    "\n",
    "image = widgets.Image(width=700, height=1000)\n",
    "\n",
    "class CurrentBill:\n",
    "\n",
    "    def __init__(self) -> None:\n",
    "        self.bill_id = None\n",
    "\n",
    "    @property\n",
    "    def id(self) -> BillId | None:\n",
    "        return self.bill_id\n",
    "\n",
    "    def set_id(self, bill_id: BillId) -> None:\n",
    "        self.bill_id = bill_id\n",
    "        log(f\"current bill: {self.bill_id}\")\n",
    "        show_pdf(self.bill_id)\n",
    "\n",
    "current_bill = CurrentBill()\n",
    "\n",
    "\n",
    "def handle_new_current_bill(event):\n",
    "    current_bill.set_id(event.new)\n",
    "\n",
    "def handle_new_category(event):\n",
    "    category = category_provider.get_by_name(event.new)\n",
    "    unit_label.value = category.unit\n",
    "\n",
    "def log(message: str) -> None:\n",
    "    with log_output:\n",
    "        print(message)\n",
    "\n",
    "def show_pdf(bill_id):\n",
    "    filestream = pdf_store.get(bill_store.get(bill_id).file_identifier)\n",
    "    img = Image(file=filestream, format=\"pdf\", resolution=150)\n",
    "    image.value = img.make_blob(format=\"png\")\n",
    "    image.format = \"png\"\n",
    "    return img\n",
    "\n",
    "def add_position(button: widgets.Button) -> None:\n",
    "    bill = bill_store.get(current_bill.id)\n",
    "    category = category_provider.get_by_name(select_category.value)\n",
    "    bill.add_position(category, textinput_position_value.value)\n",
    "    status_tracker.set_status(bill.id, Status.IN_PROGRESS)\n",
    "    update_positions()\n",
    "    update_status_lists()\n",
    "\n",
    "def delete_position(button: widgets.Button) -> None:\n",
    "    position_index = select_position.index\n",
    "    bill = bill_store.get(current_bill.id)\n",
    "    bill.delete_position(position_index)\n",
    "    if len(bill.positions) == 0:\n",
    "        status_tracker.set_status(bill.id, Status.TO_DO)\n",
    "    update_positions()\n",
    "    update_status_lists()\n",
    "\n",
    "def handle_bill_done(button: widgets.Button) -> None:\n",
    "    log(f\"Done Button clicked for {current_bill.id}\")\n",
    "    status_tracker.set_status(current_bill.id, Status.DONE)\n",
    "    update_status_lists()\n",
    "\n",
    "def update_status_lists():\n",
    "    select_todo.options = status_tracker.get_by_status(Status.TO_DO)\n",
    "    select_inprogress.options = status_tracker.get_by_status(Status.IN_PROGRESS)\n",
    "    select_done.options = status_tracker.get_by_status(Status.DONE)\n",
    "\n",
    "def get_position_description(position: Position) -> str:\n",
    "    return f\"{position.category.name} {position.category.unit}: {position.amount}\"\n",
    "\n",
    "def update_positions():\n",
    "    position_descriptions = [get_position_description(p) for p in bill_store.get(current_bill.id).positions]\n",
    "    select_position.options = position_descriptions\n",
    "\n",
    "# Layout\n",
    "left_box = widgets.VBox([select_todo, select_inprogress, select_done])\n",
    "middle_box = widgets.VBox([image])\n",
    "lower_right_box = widgets.HBox([button_done], layout=Layout())\n",
    "position_button_box = widgets.HBox([button_add_position, button_delete_position])\n",
    "position_value_input_box = widgets.HBox([textinput_position_value, unit_label])\n",
    "right_box = widgets.VBox([select_position, select_category, position_value_input_box, position_button_box, lower_right_box, log_output])\n",
    "main_box = widgets.HBox([left_box, middle_box, right_box])\n",
    "# Event bindings\n",
    "select_todo.observe(handle_new_current_bill, names=\"value\")\n",
    "select_inprogress.observe(handle_new_current_bill, names=\"value\")\n",
    "select_done.observe(handle_new_current_bill, names=\"value\")\n",
    "select_category.observe(handle_new_category, names=\"value\")\n",
    "button_add_position.on_click(add_position)\n",
    "button_delete_position.on_click(delete_position)\n",
    "button_done.on_click(handle_bill_done)\n",
    "# Display main container\n",
    "display(main_box)\n",
    "log(\"ready to go\")\n",
    "current_bill.set_id(status_tracker.get_by_status(Status.TO_DO)[0])"
   ]
  },
  {
   "cell_type": "code",
   "execution_count": 4,
   "metadata": {
    "ExecuteTime": {
     "end_time": "2023-09-04T21:18:44.746149256Z",
     "start_time": "2023-09-04T21:18:44.732841216Z"
    }
   },
   "outputs": [],
   "source": [
    "\n"
   ]
  },
  {
   "cell_type": "code",
   "execution_count": 4,
   "metadata": {
    "collapsed": false,
    "ExecuteTime": {
     "end_time": "2023-09-04T21:18:44.777653692Z",
     "start_time": "2023-09-04T21:18:44.741451518Z"
    }
   },
   "outputs": [],
   "source": []
  },
  {
   "cell_type": "code",
   "execution_count": 4,
   "metadata": {
    "collapsed": false,
    "ExecuteTime": {
     "end_time": "2023-09-04T21:18:44.778142591Z",
     "start_time": "2023-09-04T21:18:44.755875010Z"
    }
   },
   "outputs": [],
   "source": []
  }
 ],
 "metadata": {
  "kernelspec": {
   "display_name": "Python 3 (ipykernel)",
   "language": "python",
   "name": "python3"
  },
  "language_info": {
   "codemirror_mode": {
    "name": "ipython",
    "version": 3
   },
   "file_extension": ".py",
   "mimetype": "text/x-python",
   "name": "python",
   "nbconvert_exporter": "python",
   "pygments_lexer": "ipython3",
   "version": "3.10.8"
  }
 },
 "nbformat": 4,
 "nbformat_minor": 4
}
